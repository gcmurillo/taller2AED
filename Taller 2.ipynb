{
 "cells": [
  {
   "cell_type": "markdown",
   "metadata": {},
   "source": [
    "### Integrantes:\n",
    "* Geancarlo Murillo\n",
    "* Daniel Saigua\n",
    "\n",
    "### Taller 2\n",
    "Responder las siguientes preguntas: \n",
    " - Quien trae mas dinero a la empresa?\n",
    " - Los 10 productos mas rentables"
   ]
  },
  {
   "cell_type": "code",
   "execution_count": 1,
   "metadata": {},
   "outputs": [],
   "source": [
    "import pandas as pd"
   ]
  },
  {
   "cell_type": "code",
   "execution_count": 5,
   "metadata": {},
   "outputs": [],
   "source": [
    "df = pd.read_csv('sales.csv', index_col=0)"
   ]
  },
  {
   "cell_type": "code",
   "execution_count": 6,
   "metadata": {},
   "outputs": [
    {
     "data": {
      "text/html": [
       "<div>\n",
       "<style scoped>\n",
       "    .dataframe tbody tr th:only-of-type {\n",
       "        vertical-align: middle;\n",
       "    }\n",
       "\n",
       "    .dataframe tbody tr th {\n",
       "        vertical-align: top;\n",
       "    }\n",
       "\n",
       "    .dataframe thead th {\n",
       "        text-align: right;\n",
       "    }\n",
       "</style>\n",
       "<table border=\"1\" class=\"dataframe\">\n",
       "  <thead>\n",
       "    <tr style=\"text-align: right;\">\n",
       "      <th></th>\n",
       "      <th>ID</th>\n",
       "      <th>Prod</th>\n",
       "      <th>Quant</th>\n",
       "      <th>Val</th>\n",
       "      <th>Insp</th>\n",
       "    </tr>\n",
       "  </thead>\n",
       "  <tbody>\n",
       "    <tr>\n",
       "      <th>411814</th>\n",
       "      <td>v5918</td>\n",
       "      <td>p4126</td>\n",
       "      <td>113.0</td>\n",
       "      <td>9330.0</td>\n",
       "      <td>unkn</td>\n",
       "    </tr>\n",
       "    <tr>\n",
       "      <th>411815</th>\n",
       "      <td>v2540</td>\n",
       "      <td>p4126</td>\n",
       "      <td>118.0</td>\n",
       "      <td>3355.0</td>\n",
       "      <td>unkn</td>\n",
       "    </tr>\n",
       "    <tr>\n",
       "      <th>411816</th>\n",
       "      <td>v5896</td>\n",
       "      <td>p4127</td>\n",
       "      <td>143.0</td>\n",
       "      <td>1835.0</td>\n",
       "      <td>unkn</td>\n",
       "    </tr>\n",
       "    <tr>\n",
       "      <th>411817</th>\n",
       "      <td>v1796</td>\n",
       "      <td>p4127</td>\n",
       "      <td>102.0</td>\n",
       "      <td>1445.0</td>\n",
       "      <td>unkn</td>\n",
       "    </tr>\n",
       "    <tr>\n",
       "      <th>411818</th>\n",
       "      <td>v2540</td>\n",
       "      <td>p4127</td>\n",
       "      <td>106.0</td>\n",
       "      <td>1275.0</td>\n",
       "      <td>unkn</td>\n",
       "    </tr>\n",
       "  </tbody>\n",
       "</table>\n",
       "</div>"
      ],
      "text/plain": [
       "           ID   Prod  Quant     Val  Insp\n",
       "411814  v5918  p4126  113.0  9330.0  unkn\n",
       "411815  v2540  p4126  118.0  3355.0  unkn\n",
       "411816  v5896  p4127  143.0  1835.0  unkn\n",
       "411817  v1796  p4127  102.0  1445.0  unkn\n",
       "411818  v2540  p4127  106.0  1275.0  unkn"
      ]
     },
     "execution_count": 6,
     "metadata": {},
     "output_type": "execute_result"
    }
   ],
   "source": [
    "df.head()"
   ]
  },
  {
   "cell_type": "code",
   "execution_count": null,
   "metadata": {},
   "outputs": [],
   "source": []
  }
 ],
 "metadata": {
  "kernelspec": {
   "display_name": "Python 3",
   "language": "python",
   "name": "python3"
  },
  "language_info": {
   "codemirror_mode": {
    "name": "ipython",
    "version": 3
   },
   "file_extension": ".py",
   "mimetype": "text/x-python",
   "name": "python",
   "nbconvert_exporter": "python",
   "pygments_lexer": "ipython3",
   "version": "3.6.7"
  }
 },
 "nbformat": 4,
 "nbformat_minor": 2
}
