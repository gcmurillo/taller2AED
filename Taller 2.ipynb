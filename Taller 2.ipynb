{
 "cells": [
  {
   "cell_type": "markdown",
   "metadata": {},
   "source": [
    "### Integrantes:\n",
    "* Geancarlo Murillo\n",
    "* Daniel Saigua\n",
    "\n",
    "### Taller 2\n",
    "Responder las siguientes preguntas: \n",
    " - Quien trae más dinero a la empresa?\n",
    " - Los 10 productos mas rentables\n",
    " - Encontrar transacciones sospechosas"
   ]
  },
  {
   "cell_type": "code",
   "execution_count": 4,
   "metadata": {},
   "outputs": [],
   "source": [
    "import pandas as pd\n",
    "import seaborn as sns\n",
    "import matplotlib.pyplot as plt\n",
    "%matplotlib inline"
   ]
  },
  {
   "cell_type": "code",
   "execution_count": 5,
   "metadata": {},
   "outputs": [
    {
     "data": {
      "text/html": [
       "<div>\n",
       "<style scoped>\n",
       "    .dataframe tbody tr th:only-of-type {\n",
       "        vertical-align: middle;\n",
       "    }\n",
       "\n",
       "    .dataframe tbody tr th {\n",
       "        vertical-align: top;\n",
       "    }\n",
       "\n",
       "    .dataframe thead th {\n",
       "        text-align: right;\n",
       "    }\n",
       "</style>\n",
       "<table border=\"1\" class=\"dataframe\">\n",
       "  <thead>\n",
       "    <tr style=\"text-align: right;\">\n",
       "      <th></th>\n",
       "      <th>ID</th>\n",
       "      <th>Prod</th>\n",
       "      <th>Quant</th>\n",
       "      <th>Val</th>\n",
       "      <th>Insp</th>\n",
       "    </tr>\n",
       "  </thead>\n",
       "  <tbody>\n",
       "    <tr>\n",
       "      <th>1</th>\n",
       "      <td>v1</td>\n",
       "      <td>p1</td>\n",
       "      <td>182.0</td>\n",
       "      <td>1665.0</td>\n",
       "      <td>unkn</td>\n",
       "    </tr>\n",
       "    <tr>\n",
       "      <th>2</th>\n",
       "      <td>v2</td>\n",
       "      <td>p1</td>\n",
       "      <td>3072.0</td>\n",
       "      <td>8780.0</td>\n",
       "      <td>unkn</td>\n",
       "    </tr>\n",
       "    <tr>\n",
       "      <th>3</th>\n",
       "      <td>v3</td>\n",
       "      <td>p1</td>\n",
       "      <td>20393.0</td>\n",
       "      <td>76990.0</td>\n",
       "      <td>unkn</td>\n",
       "    </tr>\n",
       "    <tr>\n",
       "      <th>4</th>\n",
       "      <td>v4</td>\n",
       "      <td>p1</td>\n",
       "      <td>112.0</td>\n",
       "      <td>1100.0</td>\n",
       "      <td>unkn</td>\n",
       "    </tr>\n",
       "    <tr>\n",
       "      <th>5</th>\n",
       "      <td>v3</td>\n",
       "      <td>p1</td>\n",
       "      <td>6164.0</td>\n",
       "      <td>20260.0</td>\n",
       "      <td>unkn</td>\n",
       "    </tr>\n",
       "  </tbody>\n",
       "</table>\n",
       "</div>"
      ],
      "text/plain": [
       "   ID Prod    Quant      Val  Insp\n",
       "1  v1   p1    182.0   1665.0  unkn\n",
       "2  v2   p1   3072.0   8780.0  unkn\n",
       "3  v3   p1  20393.0  76990.0  unkn\n",
       "4  v4   p1    112.0   1100.0  unkn\n",
       "5  v3   p1   6164.0  20260.0  unkn"
      ]
     },
     "execution_count": 5,
     "metadata": {},
     "output_type": "execute_result"
    }
   ],
   "source": [
    "df = pd.read_csv('sales.csv', index_col=0)\n",
    "df.head()"
   ]
  },
  {
   "cell_type": "markdown",
   "metadata": {},
   "source": [
    "### Empleado que trae más dinero\n",
    "\n",
    "Para obtener el empleado que más dinero ingresa a la empresa, agrupamos por `Id de vendedor` y sumamos `Val` que representa el dinero obtenido por este vendedor. Luego de hacer la suma, obtenemos el `id` que tenga mayor suma"
   ]
  },
  {
   "cell_type": "code",
   "execution_count": 6,
   "metadata": {},
   "outputs": [
    {
     "data": {
      "text/plain": [
       "'v431'"
      ]
     },
     "execution_count": 6,
     "metadata": {},
     "output_type": "execute_result"
    }
   ],
   "source": [
    "df.groupby('ID')['Val'].sum().idxmax()"
   ]
  },
  {
   "cell_type": "markdown",
   "metadata": {},
   "source": [
    "### Los 10 productos mas rentables\n",
    "\n",
    "Definimos una métrica para establecer si un producto es rentable, como la relación entre la cantidad vendida y los ingresos obtenidos en las ventas de este. Un producto es rentable si la relación `ingresos obtenidos/unidades vendidas` es mayor."
   ]
  },
  {
   "cell_type": "code",
   "execution_count": 34,
   "metadata": {},
   "outputs": [],
   "source": [
    "prods = df.groupby('Prod').sum()"
   ]
  },
  {
   "cell_type": "code",
   "execution_count": 35,
   "metadata": {},
   "outputs": [
    {
     "data": {
      "text/html": [
       "<div>\n",
       "<style scoped>\n",
       "    .dataframe tbody tr th:only-of-type {\n",
       "        vertical-align: middle;\n",
       "    }\n",
       "\n",
       "    .dataframe tbody tr th {\n",
       "        vertical-align: top;\n",
       "    }\n",
       "\n",
       "    .dataframe thead th {\n",
       "        text-align: right;\n",
       "    }\n",
       "</style>\n",
       "<table border=\"1\" class=\"dataframe\">\n",
       "  <thead>\n",
       "    <tr style=\"text-align: right;\">\n",
       "      <th></th>\n",
       "      <th>Quant</th>\n",
       "      <th>Val</th>\n",
       "      <th>Rentability</th>\n",
       "    </tr>\n",
       "    <tr>\n",
       "      <th>Prod</th>\n",
       "      <th></th>\n",
       "      <th></th>\n",
       "      <th></th>\n",
       "    </tr>\n",
       "  </thead>\n",
       "  <tbody>\n",
       "    <tr>\n",
       "      <th>p1</th>\n",
       "      <td>159111.0</td>\n",
       "      <td>1409340.0</td>\n",
       "      <td>8.857590</td>\n",
       "    </tr>\n",
       "    <tr>\n",
       "      <th>p10</th>\n",
       "      <td>48241.0</td>\n",
       "      <td>445170.0</td>\n",
       "      <td>9.228043</td>\n",
       "    </tr>\n",
       "    <tr>\n",
       "      <th>p100</th>\n",
       "      <td>678241.0</td>\n",
       "      <td>1824245.0</td>\n",
       "      <td>2.689671</td>\n",
       "    </tr>\n",
       "    <tr>\n",
       "      <th>p1000</th>\n",
       "      <td>3842054.0</td>\n",
       "      <td>18127305.0</td>\n",
       "      <td>4.718129</td>\n",
       "    </tr>\n",
       "    <tr>\n",
       "      <th>p1001</th>\n",
       "      <td>666927.0</td>\n",
       "      <td>6248195.0</td>\n",
       "      <td>9.368634</td>\n",
       "    </tr>\n",
       "  </tbody>\n",
       "</table>\n",
       "</div>"
      ],
      "text/plain": [
       "           Quant         Val  Rentability\n",
       "Prod                                     \n",
       "p1      159111.0   1409340.0     8.857590\n",
       "p10      48241.0    445170.0     9.228043\n",
       "p100    678241.0   1824245.0     2.689671\n",
       "p1000  3842054.0  18127305.0     4.718129\n",
       "p1001   666927.0   6248195.0     9.368634"
      ]
     },
     "execution_count": 35,
     "metadata": {},
     "output_type": "execute_result"
    }
   ],
   "source": [
    "prods['Rentability'] = prods.apply(lambda row: row['Val']/row['Quant'] if row['Quant'] != 0 else 0, axis=1)\n",
    "prods.head()"
   ]
  },
  {
   "cell_type": "markdown",
   "metadata": {},
   "source": [
    "Hemos obtenido un `sub dataframe` del original con los datos que nos interesan. Hemos agrupado por producto y sumado la cantidad vendida, el dinero obtenido y creado una nueva columna `Rentability` basados en el analisis anterior. Se procede a ordenar en base a su `Rentabilidad`"
   ]
  },
  {
   "cell_type": "code",
   "execution_count": 38,
   "metadata": {},
   "outputs": [
    {
     "data": {
      "text/html": [
       "<div>\n",
       "<style scoped>\n",
       "    .dataframe tbody tr th:only-of-type {\n",
       "        vertical-align: middle;\n",
       "    }\n",
       "\n",
       "    .dataframe tbody tr th {\n",
       "        vertical-align: top;\n",
       "    }\n",
       "\n",
       "    .dataframe thead th {\n",
       "        text-align: right;\n",
       "    }\n",
       "</style>\n",
       "<table border=\"1\" class=\"dataframe\">\n",
       "  <thead>\n",
       "    <tr style=\"text-align: right;\">\n",
       "      <th></th>\n",
       "      <th>Quant</th>\n",
       "      <th>Val</th>\n",
       "      <th>Rentability</th>\n",
       "    </tr>\n",
       "    <tr>\n",
       "      <th>Prod</th>\n",
       "      <th></th>\n",
       "      <th></th>\n",
       "      <th></th>\n",
       "    </tr>\n",
       "  </thead>\n",
       "  <tbody>\n",
       "    <tr>\n",
       "      <th>p3689</th>\n",
       "      <td>1451.0</td>\n",
       "      <td>12753160.0</td>\n",
       "      <td>8789.221227</td>\n",
       "    </tr>\n",
       "    <tr>\n",
       "      <th>p3682</th>\n",
       "      <td>13206.0</td>\n",
       "      <td>34016270.0</td>\n",
       "      <td>2575.819325</td>\n",
       "    </tr>\n",
       "    <tr>\n",
       "      <th>p2451</th>\n",
       "      <td>12645.0</td>\n",
       "      <td>12403455.0</td>\n",
       "      <td>980.897983</td>\n",
       "    </tr>\n",
       "    <tr>\n",
       "      <th>p2453</th>\n",
       "      <td>3057.0</td>\n",
       "      <td>2753070.0</td>\n",
       "      <td>900.578999</td>\n",
       "    </tr>\n",
       "    <tr>\n",
       "      <th>p2452</th>\n",
       "      <td>16363.0</td>\n",
       "      <td>11323240.0</td>\n",
       "      <td>692.002689</td>\n",
       "    </tr>\n",
       "    <tr>\n",
       "      <th>p3679</th>\n",
       "      <td>24696.0</td>\n",
       "      <td>9001545.0</td>\n",
       "      <td>364.494048</td>\n",
       "    </tr>\n",
       "    <tr>\n",
       "      <th>p3863</th>\n",
       "      <td>1825.0</td>\n",
       "      <td>605115.0</td>\n",
       "      <td>331.569863</td>\n",
       "    </tr>\n",
       "    <tr>\n",
       "      <th>p2459</th>\n",
       "      <td>25647.0</td>\n",
       "      <td>6961965.0</td>\n",
       "      <td>271.453386</td>\n",
       "    </tr>\n",
       "    <tr>\n",
       "      <th>p2456</th>\n",
       "      <td>134837.0</td>\n",
       "      <td>34427235.0</td>\n",
       "      <td>255.324837</td>\n",
       "    </tr>\n",
       "  </tbody>\n",
       "</table>\n",
       "</div>"
      ],
      "text/plain": [
       "          Quant         Val  Rentability\n",
       "Prod                                    \n",
       "p3689    1451.0  12753160.0  8789.221227\n",
       "p3682   13206.0  34016270.0  2575.819325\n",
       "p2451   12645.0  12403455.0   980.897983\n",
       "p2453    3057.0   2753070.0   900.578999\n",
       "p2452   16363.0  11323240.0   692.002689\n",
       "p3679   24696.0   9001545.0   364.494048\n",
       "p3863    1825.0    605115.0   331.569863\n",
       "p2459   25647.0   6961965.0   271.453386\n",
       "p2456  134837.0  34427235.0   255.324837"
      ]
     },
     "execution_count": 38,
     "metadata": {},
     "output_type": "execute_result"
    }
   ],
   "source": [
    "rentables = prods.sort_values('Rentability', ascending=False)[:9]\n",
    "rentables"
   ]
  },
  {
   "cell_type": "code",
   "execution_count": 49,
   "metadata": {},
   "outputs": [
    {
     "data": {
      "text/plain": [
       "<matplotlib.axes._subplots.AxesSubplot at 0x7f5c4d6daba8>"
      ]
     },
     "execution_count": 49,
     "metadata": {},
     "output_type": "execute_result"
    },
    {
     "data": {
      "image/png": "[encoded data removed]",
      "text/plain": [
       "<matplotlib.figure.Figure at 0x7f5c4870f898>"
      ]
     },
     "metadata": {
      "needs_background": "light"
     },
     "output_type": "display_data"
    }
   ],
   "source": [
    "sns.barplot(rentables.index, rentables['Rentability'])\n"
   ]
  },
  {
   "cell_type": "markdown",
   "metadata": {},
   "source": [
    "Se aprecia en el grafico de barras la diferencia entre el mas rentable y sus posteriores. Podemos apreciar que el producto `p3689` es, aproximadamente, 4 veces mas rentable que el segundo mas rentable."
   ]
  },
  {
   "cell_type": "code",
   "execution_count": null,
   "metadata": {},
   "outputs": [],
   "source": []
  }
 ],
 "metadata": {
  "kernelspec": {
   "display_name": "Python 3",
   "language": "python",
   "name": "python3"
  }
 },
 "nbformat": 4,
 "nbformat_minor": 2
}
